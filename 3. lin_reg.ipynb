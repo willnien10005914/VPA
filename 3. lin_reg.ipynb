{
 "cells": [
  {
   "cell_type": "markdown",
   "metadata": {},
   "source": [
    "# A linear regression example\n",
    "$ y = wx + b$ <br>\n",
    "$w=3, \\, b=10 $\n"
   ]
  },
  {
   "cell_type": "code",
   "execution_count": null,
   "metadata": {
    "scrolled": true
   },
   "outputs": [],
   "source": [
    "import numpy as np\n",
    "import tensorflow as tf\n",
    "import matplotlib.pyplot as plt\n",
    "from pprint import pprint"
   ]
  },
  {
   "cell_type": "code",
   "execution_count": null,
   "metadata": {},
   "outputs": [],
   "source": [
    "# --------------------------------generate data-------------------------------------\n",
    "x_in = np.linspace(0, 1, 100)\n",
    "y_true = 3*x_in + 10 + np.random.rand(len(x_in))\n",
    "\n",
    "plt.plot(x_in, y_true, 'b.')\n",
    "plt.title('$ y = 3x + 10 + \\epsilon$')\n",
    "plt.show()"
   ]
  },
  {
   "cell_type": "markdown",
   "metadata": {},
   "source": [
    "\n",
    "\n",
    "\n",
    "### $ (1)\\; \\hat y_i = wx_i + b $\n",
    "### $ (2)\\; MSE = \\frac{1}{n} \\sum_{i=1}^n (\\hat y_i - y_i)^2 $"
   ]
  },
  {
   "cell_type": "markdown",
   "metadata": {},
   "source": [
    "## Three steps for training\n",
    "1. Build the network\n",
    "2. Compute the loss\n",
    "3. Minimize the loss by using gradient descent"
   ]
  },
  {
   "cell_type": "code",
   "execution_count": null,
   "metadata": {},
   "outputs": [],
   "source": [
    "# step 1\n",
    "inputs = tf.placeholder(dtype=tf.float32, shape=[100], name='X')\n",
    "y_label = tf.placeholder(dtype=tf.float32, shape=[100], name='label')\n",
    "\n",
    "w1 = tf.Variable([0.5], dtype=tf.float32, name='weight')\n",
    "b1 = tf.Variable([0.0], dtype=tf.float32, name='bias') \n",
    "y_pred = tf.add(tf.multiply(w1, inputs), b1, name='y_pred')  # y = w1*input + b1 --- (1)\n",
    "\n",
    "# step 2\n",
    "loss = tf.reduce_mean(tf.square(y_pred - y_label), name='mse')  # loss is a scaler. --- (2)\n",
    "\n",
    "# step 3\n",
    "optim = tf.train.GradientDescentOptimizer(learning_rate=0.1) \n",
    "train_ops = optim.minimize(loss)\n",
    "\n",
    "init = tf.global_variables_initializer()"
   ]
  },
  {
   "cell_type": "markdown",
   "metadata": {},
   "source": [
    "![title](pics/ex3-1.PNG)"
   ]
  },
  {
   "cell_type": "code",
   "execution_count": null,
   "metadata": {},
   "outputs": [],
   "source": [
    "y_pred"
   ]
  },
  {
   "cell_type": "code",
   "execution_count": null,
   "metadata": {},
   "outputs": [],
   "source": [
    "pprint(tf.global_variables())"
   ]
  },
  {
   "cell_type": "code",
   "execution_count": null,
   "metadata": {},
   "outputs": [],
   "source": [
    "## train the model\n",
    "sess = tf.Session()\n",
    "print(\"-----start training-----\")\n",
    "sess.run(init)\n",
    "\n",
    "for step in np.arange(800):\n",
    "    sess.run(train_ops, feed_dict={inputs: x_in, y_label: y_true})  # update variables\n",
    "    if step%25 == 0:\n",
    "        print('step: {:3d}, weight: {:.3f}, bias: {:.3f}'.format(step, sess.run(w1)[0], sess.run(b1)[0]))\n",
    "               \n",
    "y_out = sess.run(y_pred, feed_dict={inputs: x_in})"
   ]
  },
  {
   "cell_type": "code",
   "execution_count": null,
   "metadata": {},
   "outputs": [],
   "source": [
    "plt.plot(x_in, y_true, 'b.', label='True')\n",
    "plt.plot(x_in, y_out, 'r.', label='Predicted')\n",
    "plt.legend()\n",
    "plt.show()\n",
    "\n",
    "sess.close()"
   ]
  },
  {
   "cell_type": "code",
   "execution_count": null,
   "metadata": {},
   "outputs": [],
   "source": []
  },
  {
   "cell_type": "code",
   "execution_count": null,
   "metadata": {},
   "outputs": [],
   "source": [
    "# Linear by tensorflow\n",
    "\n",
    "\n",
    "from __future__ import print_function\n",
    "\n",
    "import tensorflow as tf\n",
    "import numpy\n",
    "import matplotlib.pyplot as plt\n",
    "rng = numpy.random\n",
    "\n",
    "# Parameters\n",
    "learning_rate = 0.01\n",
    "training_epochs = 500\n",
    "display_step = 50\n",
    "\n",
    "# Training Data\n",
    "train_X = numpy.asarray([3.3,4.4,5.5,6.71,6.93,4.168,9.779,6.182,7.59,2.167,\n",
    "                         7.042,10.791,5.313,7.997,5.654,9.27,3.1])\n",
    "train_Y = numpy.asarray([1.7,2.76,2.09,3.19,1.694,1.573,3.366,2.596,2.53,1.221,\n",
    "                         2.827,3.465,1.65,2.904,2.42,2.94,1.3])\n",
    "\n",
    "#train_X = np.linspace(-1, 1, 200)\n",
    "#train_Y = 6*x_in**2 - 4*x_in + 1 + np.random.rand(len(x_in))*2\n",
    "\n",
    "\n",
    "n_samples = train_X.shape[0]\n",
    "\n",
    "# tf Graph Input\n",
    "X = tf.placeholder(\"float\")\n",
    "Y = tf.placeholder(\"float\")\n",
    "\n",
    "# Set model weights\n",
    "W = tf.Variable(rng.randn(), name=\"weight\")\n",
    "b = tf.Variable(rng.randn(), name=\"bias\")\n",
    "\n",
    "# Construct a linear model\n",
    "pred = tf.add(tf.multiply(X, W), b)\n",
    "\n",
    "# Mean squared error\n",
    "cost = tf.reduce_sum(tf.pow(pred-Y, 2))/(2*n_samples)\n",
    "# Gradient descent\n",
    "#  Note, minimize() knows to modify W and b because Variable objects are trainable=True by default\n",
    "optimizer = tf.train.GradientDescentOptimizer(learning_rate).minimize(cost)\n",
    "\n",
    "# Initialize the variables (i.e. assign their default value)\n",
    "init = tf.global_variables_initializer()\n",
    "\n",
    "# Start training\n",
    "with tf.Session() as sess:\n",
    "\n",
    "    # Run the initializer\n",
    "    sess.run(init)\n",
    "\n",
    "    # Fit all training data\n",
    "    for epoch in range(training_epochs):\n",
    "        for (x, y) in zip(train_X, train_Y):\n",
    "            sess.run(optimizer, feed_dict={X: x, Y: y})\n",
    "\n",
    "        # Display logs per epoch step\n",
    "        if (epoch+1) % display_step == 0:\n",
    "            c = sess.run(cost, feed_dict={X: train_X, Y:train_Y})\n",
    "            print(\"Epoch:\", '%04d' % (epoch+1), \"cost=\", \"{:.9f}\".format(c), \\\n",
    "                \"W=\", sess.run(W), \"b=\", sess.run(b))\n",
    "\n",
    "    print(\"Optimization Finished!\")\n",
    "    training_cost = sess.run(cost, feed_dict={X: train_X, Y: train_Y})\n",
    "    print(\"Training cost=\", training_cost, \"W=\", sess.run(W), \"b=\", sess.run(b), '\\n')\n",
    "\n",
    "    # Graphic display\n",
    "    plt.plot(train_X, train_Y, 'ro', label='Original data')\n",
    "    plt.plot(train_X, sess.run(W) * train_X + sess.run(b), label='Fitted line')\n",
    "    plt.legend()\n",
    "    plt.show()\n",
    "\n",
    "    # Testing example, as requested (Issue #2)\n",
    "    test_X = numpy.asarray([6.83, 4.668, 8.9, 7.91, 5.7, 8.7, 3.1, 2.1])\n",
    "    test_Y = numpy.asarray([1.84, 2.273, 3.2, 2.831, 2.92, 3.24, 1.35, 1.03])\n",
    "\n",
    "    print(\"Testing... (Mean square loss Comparison)\")\n",
    "    testing_cost = sess.run(\n",
    "        tf.reduce_sum(tf.pow(pred - Y, 2)) / (2 * test_X.shape[0]),\n",
    "        feed_dict={X: test_X, Y: test_Y})  # same function as cost above\n",
    "    print(\"Testing cost=\", testing_cost)\n",
    "    print(\"Absolute mean square loss difference:\", abs(\n",
    "        training_cost - testing_cost))\n",
    "\n",
    "    plt.plot(test_X, test_Y, 'bo', label='Testing data')\n",
    "    plt.plot(train_X, sess.run(W) * train_X + sess.run(b), label='Fitted line')\n",
    "    plt.legend()\n",
    "    plt.show()"
   ]
  },
  {
   "cell_type": "code",
   "execution_count": null,
   "metadata": {},
   "outputs": [],
   "source": []
  },
  {
   "cell_type": "code",
   "execution_count": null,
   "metadata": {},
   "outputs": [],
   "source": []
  },
  {
   "cell_type": "markdown",
   "metadata": {},
   "source": [
    "![title](pics/ex3-2.PNG)"
   ]
  },
  {
   "cell_type": "code",
   "execution_count": null,
   "metadata": {},
   "outputs": [],
   "source": []
  },
  {
   "cell_type": "code",
   "execution_count": null,
   "metadata": {},
   "outputs": [],
   "source": []
  },
  {
   "cell_type": "markdown",
   "metadata": {},
   "source": [
    "# Practice\n",
    "$ y = w_1x^2 + w_2x + b$ <br>\n",
    "$ w_1=6, \\, w_2=-4, \\, b=1 $"
   ]
  },
  {
   "cell_type": "code",
   "execution_count": 37,
   "metadata": {},
   "outputs": [
    {
     "data": {
      "image/png": "[encoded data removed]",
      "text/plain": [
       "<Figure size 432x288 with 1 Axes>"
      ]
     },
     "metadata": {
      "needs_background": "light"
     },
     "output_type": "display_data"
    }
   ],
   "source": [
    "x_in = np.linspace(-1, 1, 200)\n",
    "y_true = 6*x_in**2 - 4*x_in + 1 + np.random.rand(len(x_in))*2\n",
    "\n",
    "plt.plot(x_in, y_true, 'b.')\n",
    "plt.show()"
   ]
  },
  {
   "cell_type": "code",
   "execution_count": null,
   "metadata": {},
   "outputs": [],
   "source": []
  },
  {
   "cell_type": "code",
   "execution_count": null,
   "metadata": {},
   "outputs": [],
   "source": []
  },
  {
   "cell_type": "code",
   "execution_count": null,
   "metadata": {},
   "outputs": [],
   "source": []
  },
  {
   "cell_type": "code",
   "execution_count": 61,
   "metadata": {},
   "outputs": [
    {
     "name": "stdout",
     "output_type": "stream",
     "text": [
      "-----start training-----\n",
      "step:   0, weight: 0.854, bias: 0.768\n",
      "step: 1000, weight: 5.971, bias: 2.011\n"
     ]
    },
    {
     "data": {
      "image/png": "[encoded data removed]",
      "text/plain": [
       "<Figure size 432x288 with 1 Axes>"
      ]
     },
     "metadata": {
      "needs_background": "light"
     },
     "output_type": "display_data"
    }
   ],
   "source": [
    "# Method-0 : Non-linear by tensorflow\n",
    "\n",
    "\n",
    "x_in = np.linspace(-1, 1, 1000)\n",
    "y_true = 6*x_in**2 - 4*x_in + 1 + np.random.rand(len(x_in))*2\n",
    "\n",
    "tf.reset_default_graph()\n",
    "inputs = tf.placeholder(dtype=tf.float32, shape=[1000], name='X')\n",
    "y_label = tf.placeholder(dtype=tf.float32, shape=[1000], name='label')\n",
    "w1 = tf.Variable([0.5], dtype=tf.float32, name='weight')\n",
    "w2 = tf.Variable([0.5], dtype=tf.float32, name='weight2')\n",
    "\n",
    "b1 = tf.Variable([0.0], dtype=tf.float32, name='bias') \n",
    "y_pred = tf.add(\n",
    "    tf.multiply(tf.square(inputs), w1),\n",
    "    tf.add(tf.multiply(w2, inputs), b1, name='y_pred0')  # y = w1*input^2 + w2*input + b1 --- (1)\n",
    "    , name='y_pred'\n",
    "    )\n",
    "# step 2\n",
    "loss = tf.reduce_mean(tf.square(y_pred - y_label), name='mse')  # loss is a scaler. --- (2)\n",
    "\n",
    "# step 3\n",
    "optim = tf.train.GradientDescentOptimizer(learning_rate=0.1) \n",
    "train_ops = optim.minimize(loss)\n",
    "\n",
    "init = tf.global_variables_initializer()\n",
    "\n",
    "## train the model\n",
    "sess = tf.Session()\n",
    "print(\"-----start training-----\")\n",
    "sess.run(init)\n",
    "\n",
    "for step in np.arange(2000):\n",
    "    sess.run(train_ops, feed_dict={inputs: x_in, y_label: y_true})  # update variables\n",
    "    if step%1000 == 0:\n",
    "        print('step: {:3d}, weight: {:.3f}, bias: {:.3f}'.format(step, sess.run(w1)[0], sess.run(b1)[0]))\n",
    "               \n",
    "y_out = sess.run(y_pred, feed_dict={inputs: x_in})\n",
    "\n",
    "plt.plot(x_in, y_true, 'b.', label='True')\n",
    "plt.plot(x_in, y_out, 'r.', label='Predicted')\n",
    "plt.legend()\n",
    "plt.show()\n",
    "\n",
    "sess.close()"
   ]
  },
  {
   "cell_type": "code",
   "execution_count": null,
   "metadata": {},
   "outputs": [],
   "source": []
  },
  {
   "cell_type": "code",
   "execution_count": null,
   "metadata": {},
   "outputs": [],
   "source": []
  },
  {
   "cell_type": "code",
   "execution_count": 42,
   "metadata": {},
   "outputs": [
    {
     "data": {
      "text/plain": [
       "(200, 1)"
      ]
     },
     "execution_count": 42,
     "metadata": {},
     "output_type": "execute_result"
    }
   ],
   "source": [
    "x_in = x_in.reshape(200,1)\n",
    "x_in.shape"
   ]
  },
  {
   "cell_type": "code",
   "execution_count": null,
   "metadata": {},
   "outputs": [],
   "source": []
  },
  {
   "cell_type": "code",
   "execution_count": 46,
   "metadata": {},
   "outputs": [
    {
     "data": {
      "image/png": "[encoded data removed]",
      "text/plain": [
       "<Figure size 432x288 with 1 Axes>"
      ]
     },
     "metadata": {
      "needs_background": "light"
     },
     "output_type": "display_data"
    }
   ],
   "source": [
    "# Method-1 : Non-linear by tensorflow\n",
    "\n",
    "\n",
    "import numpy as np\n",
    "\n",
    "#create dataset\n",
    "x_in = np.linspace(-1, 1, 200)\n",
    "y_true = 6*x_in**2 - 4*x_in + 1 + np.random.rand(len(x_in))*2\n",
    "\n",
    "\n",
    "x_in = x_in.reshape(200,1)\n",
    "y_true = y_true.reshape(200,1)\n",
    "\n",
    "tf.reset_default_graph()\n",
    "x = tf.placeholder(dtype=tf.float32, shape=[None, 1], name='x')\n",
    "y = tf.placeholder(dtype=tf.float32, shape=[None, 1], name='y')\n",
    "graph = tf.get_default_graph()\n",
    "\n",
    "#np.random.seed(0)\n",
    "#a = np.random.random(size=1)\n",
    "#print(a)\n",
    "\n",
    "\n",
    "w = tf.Variable([0.5], dtype=tf.float32, name='weight')\n",
    "b = tf.Variable([0], dtype=tf.float32, name='bias')\n",
    "\n",
    "\n",
    "\n",
    "# Input layer 1 neuron\n",
    "# Define the neural network middle layer\n",
    "# Intermediate layer uses 10 neurons\n",
    "# Output layer 1 neuron\n",
    "Weight_L1 = tf.Variable(tf.random_normal([1, 10]))\n",
    "biases_L1 = tf.Variable(tf.zeros([1, 10]))\n",
    "Wx_plus_b_L1 = tf.matmul(x, Weight_L1) + biases_L1\n",
    "\n",
    "# Activation function tanh\n",
    "L1 = tf.nn.tanh(Wx_plus_b_L1)\n",
    "\n",
    "# Define the neural network output layer\n",
    "Weight_L2 = tf.Variable(tf.random_normal([10, 1]))\n",
    "biases_L2 = tf.Variable(tf.zeros([1, 1]))\n",
    "Wx_plus_b_L2 = tf.matmul(L1, Weight_L2) + biases_L2\n",
    "\n",
    "prediction = tf.nn.tanh(Wx_plus_b_L2)\n",
    "\n",
    "# secondary cost function\n",
    "loss = tf.reduce_mean(tf.square(y - prediction))\n",
    "\n",
    "# Training using gradient descent\n",
    "train_step = tf.train.GradientDescentOptimizer(0.1).minimize(loss)\n",
    "\n",
    "\n",
    "\n",
    "\n",
    "#nonlin_model = tf.add(tf.multiply(tf.tanh(x), w), b)\n",
    "#nonlin_loss = tf.reduce_mean(tf.pow(nonlin_model - y, 2), name='cost')\n",
    "\n",
    "\n",
    "#y_pred = tf.add(tf.multiply(x, w), b, name='pred')\n",
    "#loss = tf.reduce_mean(tf.square(y_pred - y), name='mse')\n",
    "\n",
    "#optim = tf.train.GradientDescentOptimizer(learning_rate=0.01)\n",
    "#train_step_nonlin = tf.train.GradientDescentOptimizer(0.01).minimize(nonlin_loss)\n",
    "\n",
    "\n",
    "#train_ops = optim.minimize(loss=loss)\n",
    "#train_ops = optim.minimize(loss=nonlin_loss)\n",
    "init = tf.global_variables_initializer()\n",
    "\n",
    "#pprint(tf.global_variables())\n",
    "\n",
    "sess = tf.Session()\n",
    "\n",
    "sess.run(init)\n",
    "\n",
    "for step in np.arange(500):\n",
    "    sess.run(train_step, feed_dict={x: x_in, y: y_true})\n",
    "    if step%100 == 0:\n",
    "        print('step: {:3d}, weight: {:.3f}, bias: {:.3f}'.format(step, sess.run(w)[0], sess.run(b)[0]))\n",
    "        \n",
    "        \n",
    "y_out = sess.run(prediction, feed_dict={x: x_in})\n",
    "\n",
    "\n",
    "plt.plot(x_in, y_true, 'b.', label='True')\n",
    "plt.plot(x_in, y_out, 'r.', label='Predicted')\n",
    "plt.legend()\n",
    "plt.show()\n",
    "\n",
    "sess.close()"
   ]
  },
  {
   "cell_type": "code",
   "execution_count": null,
   "metadata": {},
   "outputs": [],
   "source": []
  },
  {
   "cell_type": "code",
   "execution_count": null,
   "metadata": {},
   "outputs": [],
   "source": []
  },
  {
   "cell_type": "code",
   "execution_count": null,
   "metadata": {},
   "outputs": [],
   "source": []
  },
  {
   "cell_type": "code",
   "execution_count": 20,
   "metadata": {},
   "outputs": [
    {
     "name": "stdout",
     "output_type": "stream",
     "text": [
      "Populating the interactive namespace from numpy and matplotlib\n",
      "Epoch 00118: early stopping\n"
     ]
    },
    {
     "data": {
      "image/png": "[encoded data removed]",
      "text/plain": [
       "<Figure size 432x288 with 1 Axes>"
      ]
     },
     "metadata": {
      "needs_background": "light"
     },
     "output_type": "display_data"
    }
   ],
   "source": [
    "# Method-2 : Non-linear by Keras CNN\n",
    "\n",
    "\n",
    "from numpy import loadtxt\n",
    "import pandas as pd\n",
    "import numpy as np\n",
    "from xgboost import XGBClassifier\n",
    "from sklearn.model_selection import train_test_split\n",
    "from sklearn.metrics import accuracy_score\n",
    "from xgboost import XGBClassifier\n",
    "import matplotlib.pyplot as plt\n",
    "from sklearn.metrics import accuracy_score\n",
    "from keras.callbacks import EarlyStopping\n",
    "import tensorflow as tf\n",
    "from tensorflow.python.keras.layers import Dropout, BatchNormalization, Flatten\n",
    "from keras import regularizers\n",
    "from tensorflow.keras.layers import Dense\n",
    "from sklearn import preprocessing \n",
    "%pylab inline\n",
    "\n",
    "\n",
    "# Create dataset\n",
    "x_in = np.linspace(-1, 1, 200)\n",
    "y_true = 6*x_in**2 - 4*x_in + 1 + np.random.rand(len(x_in))*2\n",
    "x_train, x_valid, y_train, y_valid = train_test_split(x_in, y_true, random_state = 7, test_size = 0.13)\n",
    "\n",
    "\n",
    "# Training\n",
    "model = tf.keras.Sequential()\n",
    "model.add(Dense(200, activation=\"relu\", input_shape=(1,)))\n",
    "model.add(Dense(30, activation='relu'))\n",
    "model.add(Dense(40, activation='relu'))\n",
    "#model.add(Dropout(0.5))\n",
    "model.add(Dense(64, activation='relu'))\n",
    "#model.add(BatchNormalization())\n",
    "model.add(Dense(1))\n",
    "batch_size = 32\n",
    "epochs = 200\n",
    "lr = 0.01\n",
    "train_ratio = 0.9\n",
    "\n",
    "early_stopping = EarlyStopping(monitor='val_loss', patience=50, verbose=2)\n",
    "\n",
    "model.compile(optimizer ='adam', loss = 'mean_squared_error', \n",
    "              metrics =['mean_absolute_error'])\n",
    "\n",
    "model_history = model.fit(x=x_train, y=y_train,\n",
    "                          batch_size=batch_size,\n",
    "                          epochs=epochs,\n",
    "                          validation_data=(x_valid, y_valid),\n",
    "                          shuffle=False, callbacks=[early_stopping],\n",
    "                          verbose=0\n",
    "                         )\n",
    "\n",
    "# Prediction\n",
    "y_out = model.predict(x_in)\n",
    "\n",
    "\n",
    "# Result\n",
    "plt.plot(x_in, y_true, 'b.', label='True')\n",
    "plt.plot(x_in, y_out, 'r.', label='Predicted')\n",
    "plt.legend()\n",
    "plt.show()"
   ]
  },
  {
   "cell_type": "code",
   "execution_count": null,
   "metadata": {},
   "outputs": [],
   "source": []
  },
  {
   "cell_type": "code",
   "execution_count": null,
   "metadata": {},
   "outputs": [],
   "source": []
  },
  {
   "cell_type": "code",
   "execution_count": 22,
   "metadata": {},
   "outputs": [
    {
     "name": "stdout",
     "output_type": "stream",
     "text": [
      "(500, 1)\n",
      "Training data points: 334\n",
      "Validation data points: 83\n",
      "Testing data points: 83\n",
      "Initialized\n",
      "Minibatch loss at step 0: 4.783812\n",
      "Minibatch RMSE: 3.093142\n",
      "Validation RMSE: 2.956486\n"
     ]
    },
    {
     "name": "stderr",
     "output_type": "stream",
     "text": [
      "/opt/conda/lib/python3.6/site-packages/ipykernel_launcher.py:178: RuntimeWarning: divide by zero encountered in double_scalars\n"
     ]
    },
    {
     "name": "stdout",
     "output_type": "stream",
     "text": [
      "Minibatch loss at step 1000: 0.551357\n",
      "Minibatch RMSE: 1.050143\n",
      "Validation RMSE: 0.931740\n",
      "Minibatch loss at step 2000: 0.549392\n",
      "Minibatch RMSE: 1.048353\n",
      "Validation RMSE: 0.929984\n",
      "Minibatch loss at step 3000: 0.541598\n",
      "Minibatch RMSE: 1.040940\n",
      "Validation RMSE: 0.923409\n",
      "Minibatch loss at step 4000: 0.376650\n",
      "Minibatch RMSE: 0.867560\n",
      "Validation RMSE: 0.799650\n",
      "Minibatch loss at step 5000: 0.162582\n",
      "Minibatch RMSE: 0.566818\n",
      "Validation RMSE: 0.530540\n",
      "Minibatch loss at step 6000: 0.090103\n",
      "Minibatch RMSE: 0.416193\n",
      "Validation RMSE: 0.375218\n",
      "Minibatch loss at step 7000: 0.078140\n",
      "Minibatch RMSE: 0.384690\n",
      "Validation RMSE: 0.349137\n",
      "Minibatch loss at step 8000: 0.067293\n",
      "Minibatch RMSE: 0.353666\n",
      "Validation RMSE: 0.327801\n",
      "Minibatch loss at step 9000: 0.060094\n",
      "Minibatch RMSE: 0.329930\n",
      "Validation RMSE: 0.310891\n",
      "Minibatch loss at step 10000: 0.055336\n",
      "Minibatch RMSE: 0.312295\n",
      "Validation RMSE: 0.302848\n",
      "Test RMSE: 0.306194\n",
      "Total RMSE: 0.306500\n",
      "Execution time: 7.668912\n"
     ]
    },
    {
     "data": {
      "text/plain": [
       "[<matplotlib.lines.Line2D at 0x7f5bad2a5208>]"
      ]
     },
     "execution_count": 22,
     "metadata": {},
     "output_type": "execute_result"
    },
    {
     "data": {
      "image/png": "[encoded data removed]",
      "text/plain": [
       "<Figure size 432x288 with 1 Axes>"
      ]
     },
     "metadata": {
      "needs_background": "light"
     },
     "output_type": "display_data"
    }
   ],
   "source": [
    "# Method-3 : Non-linear by tensorflow\n",
    "\n",
    "\n",
    "import numpy as np\n",
    "import tensorflow as tf\n",
    "from matplotlib import pyplot as plt\n",
    "import time\n",
    "\n",
    "\n",
    "# Create dataset\n",
    "n = 500\n",
    "x = np.linspace(0,3.14,n)\n",
    "x = np.array(x).astype(np.float32)\n",
    "y = np.sin(x) * np.multiply(x, x)\n",
    "\n",
    "#x_in = np.linspace(-1, 1, 500)\n",
    "#y_true = 6*x_in**2 - 4*x_in + 1 + np.random.rand(len(x_in))*2\n",
    "#x = x_in\n",
    "#y = y_true\n",
    "\n",
    "r = np.random.random(n)\n",
    "y = y + r\n",
    "xNorm = (x - np.mean(x)) / (np.amax(x) - np.amin(x))\n",
    "\n",
    "\n",
    "\n",
    "\n",
    "idxs = np.array(range(n)).astype(np.int32)\n",
    "tmp = np.zeros((1, n), dtype=np.float32)\n",
    "tmp[0] = xNorm\n",
    "xNorm = tmp.T\n",
    "print(xNorm.shape)\n",
    "\n",
    "# Shuffle the indexes\n",
    "np.random.shuffle(idxs)\n",
    "# Assign 1/6th for validation, and test and the rest for training\n",
    "nValidIdxs = int(n / 6)\n",
    "nTestIdxs = int(n / 6)\n",
    "validIdxs = idxs[0:nValidIdxs]\n",
    "testIdxs = idxs[nValidIdxs:nValidIdxs + nTestIdxs]\n",
    "nTrainIdxs = n - nValidIdxs - nTestIdxs\n",
    "trainIdxs = idxs[nValidIdxs + nTestIdxs:n]\n",
    "print('Training data points: %d' % nTrainIdxs)\n",
    "print('Validation data points: %d' % nValidIdxs)\n",
    "print('Testing data points: %d' % nTestIdxs)\n",
    "\n",
    "# Split input and output values into the\n",
    "# training, testing, and validation datasets.\n",
    "trainX = xNorm[trainIdxs]\n",
    "testX = xNorm[testIdxs]\n",
    "validX = xNorm[validIdxs]\n",
    "\n",
    "trainY = y[trainIdxs]\n",
    "testY = y[testIdxs]\n",
    "validY = y[validIdxs]\n",
    "\n",
    "# This part defines a Neural Network with regularization\n",
    "# applied to the loss term. SGD batch size is 128 samples.\n",
    "# In addition, dropout is applied to the hidden layers during\n",
    "# the training process.\n",
    "batchSize = 256\n",
    "nNodes = 128\n",
    "stdDev = 0.1\n",
    "regParam = 0.0001\n",
    "initRate = 0.001\n",
    "nLayers = 1\n",
    "\n",
    "graph = tf.Graph()\n",
    "tf.set_random_seed(1234)\n",
    "with graph.as_default():\n",
    "    # Input data. For the training data, we use a placeholder that will be fed\n",
    "    # at run time with a training minibatch.\n",
    "    tfTrainX = tf.placeholder(tf.float32, shape=(batchSize, 1))\n",
    "    tfTrainY = tf.placeholder(tf.float32, shape=(batchSize))\n",
    "    tfValidX = tf.constant(validX)\n",
    "    tfTestX = tf.constant(testX)\n",
    "    tfAllX = tf.constant(xNorm)\n",
    "\n",
    "    # This function defines a deep neural network\n",
    "    # with 3 hidden layers and one output layer.\n",
    "    def deepNeural(dataset):\n",
    "        w = []\n",
    "        b = []\n",
    "        for i in range(nLayers):\n",
    "            w.append(None)\n",
    "            b.append(None)\n",
    "\n",
    "        # Hidden layers\n",
    "        for i in range(nLayers):\n",
    "            if(i == 0):\n",
    "                w[i] = tf.Variable(\n",
    "                    tf.truncated_normal([1, nNodes], stddev=stdDev))\n",
    "                logits = tf.matmul(dataset, w[i])\n",
    "            else:\n",
    "                w[i] = tf.Variable(\n",
    "                    tf.truncated_normal([nNodes, nNodes], stddev=stdDev))\n",
    "                logits = tf.matmul(logits, w[i])\n",
    "            b[i] = tf.Variable(tf.zeros([nNodes]))\n",
    "            logits = tf.add(logits, b[i])\n",
    "            logits = tf.nn.tanh(logits)\n",
    "\n",
    "        # Output layer\n",
    "        wo = tf.ones([nNodes, 1], tf.float32)\n",
    "        logits = tf.matmul(logits, wo)\n",
    "        # Return the output layer\n",
    "        return [logits, w, b, wo]\n",
    "\n",
    "    # This function provides the logits from the output\n",
    "    # layer calculated based upon the passed weights and\n",
    "    # biases for the hidden and output layer calculated\n",
    "    # based upon the loss minimization.\n",
    "    def predict(dataset, w, b, wo):\n",
    "        # Computation for hidden layers\n",
    "        for i in range(nLayers):\n",
    "            if(i == 0):\n",
    "                logits = tf.matmul(dataset, w[i])\n",
    "            else:\n",
    "                logits = tf.matmul(logits, w[i])\n",
    "            logits = tf.add(logits, b[i])\n",
    "            logits = tf.nn.tanh(logits)\n",
    "        # Computation for the output layer\n",
    "        return tf.matmul(logits, wo)\n",
    "\n",
    "    logits, w, b, wo = deepNeural(tfTrainX)\n",
    "    loss = 0.5 * tf.reduce_mean(tf.square(tf.transpose(logits) - tfTrainY))\n",
    "    # Compute regularization term\n",
    "    regTerm = tf.Variable(0.0)\n",
    "    for i in range(nLayers):\n",
    "        regTerm = regTerm + tf.reduce_mean(tf.nn.l2_loss(w[i]))\n",
    "    regTerm = regTerm * regParam\n",
    "    # Add regularization term to loss\n",
    "    loss = loss + regTerm\n",
    "\n",
    "    # Optimizer.\n",
    "    # Exponential decay of learning rate.\n",
    "    globalStep = tf.Variable(0) # count the number of steps taken.\n",
    "    learningRate = tf.train.exponential_decay(initRate, globalStep, 1000, 0.96, staircase=True)\n",
    "    optimizer = tf.train.AdamOptimizer(learningRate).minimize(loss)\n",
    "\n",
    "    # Predictions for the training, validation, and test data.\n",
    "    trainPred = logits\n",
    "    validPred = predict(tfValidX, w, b, wo)\n",
    "    testPred = predict(tfTestX, w, b, wo)\n",
    "    allPred = predict(tfAllX, w, b, wo)\n",
    "\n",
    "def rmse(pred, actual):\n",
    "    #print(pred.shape)\n",
    "    pred = pred.reshape(1,-1)\n",
    "    actual = actual.reshape(1,-1)\n",
    "    return np.sqrt(((pred - actual)**2).mean())\n",
    "\n",
    "# Run SGD for Neural Network with regularization\n",
    "numSteps = 10001\n",
    "startTime = time.time()\n",
    "predY = np.array([])\n",
    "validRMSEOld = 0.0\n",
    "with tf.Session(graph=graph) as session:\n",
    "    tf.global_variables_initializer().run()\n",
    "    print(\"Initialized\")\n",
    "    for step in range(numSteps):\n",
    "        # Pick an offset within the training data, which has been randomized.\n",
    "        # Note: we could use better randomization across epochs.\n",
    "        offset = (step * batchSize) % (trainY.shape[0] - batchSize)\n",
    "        # Generate a minibatch.\n",
    "        batchX = trainX[offset:(offset + batchSize), :]\n",
    "        batchY = trainY[offset:(offset + batchSize)]\n",
    "        # Prepare a dictionary telling the session where to feed the minibatch.\n",
    "        # The key of the dictionary is the placeholder node of the graph to be fed,\n",
    "        # and the value is the numpy array to feed to it.\n",
    "        feedDict = {tfTrainX : batchX, tfTrainY : batchY}\n",
    "        _, l, pred = session.run(\n",
    "            [optimizer, loss, trainPred], feed_dict=feedDict)\n",
    "        if (step % 1000 == 0):\n",
    "            print(\"Minibatch loss at step %d: %f\" % (step, l))\n",
    "            print(\"Minibatch RMSE: %f\" % rmse(pred, batchY))\n",
    "            validRMSE = rmse(validPred.eval(), validY)\n",
    "            print(\"Validation RMSE: %f\" % validRMSE)\n",
    "            relChange = (validRMSEOld - validRMSE) / validRMSEOld\n",
    "            if (abs(relChange) < 0.0001 or np.isnan(validRMSE)):\n",
    "                break\n",
    "            else:\n",
    "                validRMSEOld = validRMSE\n",
    "    print(\"Test RMSE: %f\" % rmse(testPred.eval(), testY))\n",
    "    print(\"Total RMSE: %f\" % rmse(allPred.eval(), y))\n",
    "    predY = allPred.eval()\n",
    "print('Execution time: %f' % (time.time() - startTime))\n",
    "\n",
    "plt.plot(y, 'ro')\n",
    "plt.plot(predY, '-', lw=5)"
   ]
  },
  {
   "cell_type": "code",
   "execution_count": null,
   "metadata": {},
   "outputs": [],
   "source": []
  },
  {
   "cell_type": "code",
   "execution_count": null,
   "metadata": {},
   "outputs": [],
   "source": []
  },
  {
   "cell_type": "code",
   "execution_count": null,
   "metadata": {},
   "outputs": [],
   "source": []
  },
  {
   "cell_type": "code",
   "execution_count": 56,
   "metadata": {},
   "outputs": [
    {
     "data": {
      "image/png": "[encoded data removed]",
      "text/plain": [
       "<Figure size 432x288 with 1 Axes>"
      ]
     },
     "metadata": {
      "needs_background": "light"
     },
     "output_type": "display_data"
    }
   ],
   "source": [
    "# Method-4 : Non-linear by tensorflow\n",
    "\n",
    "\n",
    "import tensorflow as tf\n",
    "import numpy as np\n",
    "import matplotlib.pylab as plt\n",
    "\n",
    "\n",
    "# Create dataset\n",
    "# Generate 200 random points using numpy\n",
    "# linspace generates 200 points evenly distributed from -0.5 to 0.5\n",
    "# [:,np.newaxis] is to transform one-dimensional data into two-dimensional data\n",
    "x_data = np.linspace(-0.5, 0.5, 200)[:, np.newaxis]\n",
    "\n",
    "# Generate noise interference point noise\n",
    "noise = np.random.normal(0, 0.02, x_data.shape)\n",
    "y_data = np.square(x_data) + noise # simulation y =x**2\n",
    "\n",
    "\n",
    "\n",
    "#x_in = np.linspace(-1, 1, 200)\n",
    "#y_true = 6*x_in**2 - 4*x_in + 1 + np.random.rand(len(x_in))*2\n",
    "#x_data = x_in.reshape(200,1)\n",
    "#y_data = y_true.reshape(200,1)\n",
    "\n",
    "# define two placeholders\n",
    "# placeholder dimension size is determined according to the input data size\n",
    "x = tf.placeholder(tf.float32, [None, 1])\n",
    "y = tf.placeholder(tf.float32, [None, 1])\n",
    "\n",
    "# Input layer 1 neuron\n",
    "# Define the neural network middle layer\n",
    "# Intermediate layer uses 10 neurons\n",
    "# Output layer 1 neuron\n",
    "Weight_L1 = tf.Variable(tf.random_normal([1, 10]))\n",
    "biases_L1 = tf.Variable(tf.zeros([1, 10]))\n",
    "Wx_plus_b_L1 = tf.matmul(x, Weight_L1) + biases_L1\n",
    "\n",
    "# Activation function tanh\n",
    "L1 = tf.nn.tanh(Wx_plus_b_L1)\n",
    "\n",
    "# Define the neural network output layer\n",
    "Weight_L2 = tf.Variable(tf.random_normal([10, 1]))\n",
    "biases_L2 = tf.Variable(tf.zeros([1, 1]))\n",
    "Wx_plus_b_L2 = tf.matmul(L1, Weight_L2) + biases_L2\n",
    "\n",
    "prediction = tf.nn.tanh(Wx_plus_b_L2)\n",
    "\n",
    "# secondary cost function\n",
    "loss = tf.reduce_mean(tf.square(y - prediction))\n",
    "\n",
    "# Training using gradient descent\n",
    "train_step = tf.train.GradientDescentOptimizer(0.1).minimize(loss)\n",
    "\n",
    "\n",
    "with tf.Session() as sess:\n",
    "    init = tf.initialize_all_variables()\n",
    "    sess.run(init)\n",
    "    for step in range(2000):\n",
    "                 sess.run(train_step, feed_dict={x: x_data, y: y_data}) #pass in sample value\n",
    "\n",
    "    #Get predicted value\n",
    "    prediction_value = sess.run(prediction, feed_dict={x: x_data})\n",
    " \n",
    "    plt.figure()\n",
    "    plt.scatter(x_data, y_data)\n",
    "    plt.plot(x_data, prediction_value, 'r-', lw=5)\n",
    "    plt.show()"
   ]
  },
  {
   "cell_type": "code",
   "execution_count": null,
   "metadata": {},
   "outputs": [],
   "source": []
  },
  {
   "cell_type": "code",
   "execution_count": null,
   "metadata": {},
   "outputs": [],
   "source": []
  }
 ],
 "metadata": {
  "kernelspec": {
   "display_name": "Python 3",
   "language": "python",
   "name": "python3"
  },
  "language_info": {
   "codemirror_mode": {
    "name": "ipython",
    "version": 3
   },
   "file_extension": ".py",
   "mimetype": "text/x-python",
   "name": "python",
   "nbconvert_exporter": "python",
   "pygments_lexer": "ipython3",
   "version": "3.6.6"
  }
 },
 "nbformat": 4,
 "nbformat_minor": 2
}
